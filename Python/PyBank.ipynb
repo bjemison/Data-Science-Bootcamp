{
 "cells": [
  {
   "cell_type": "code",
   "execution_count": 1,
   "metadata": {},
   "outputs": [],
   "source": [
    "import os\n",
    "import csv\n",
    "\n"
   ]
  },
  {
   "cell_type": "code",
   "execution_count": 2,
   "metadata": {},
   "outputs": [],
   "source": [
    "csvpath =  os.path.join('budget_data.csv')"
   ]
  },
  {
   "cell_type": "code",
   "execution_count": 3,
   "metadata": {},
   "outputs": [
    {
     "data": {
      "text/plain": [
       "'budget_data.csv'"
      ]
     },
     "execution_count": 3,
     "metadata": {},
     "output_type": "execute_result"
    }
   ],
   "source": [
    "csvpath"
   ]
  },
  {
   "cell_type": "code",
   "execution_count": 4,
   "metadata": {},
   "outputs": [],
   "source": [
    "total_months = 0 \n",
    "total_revenue = []\n",
    "months = []\n",
    "with open(csvpath, newline = '') as csvfile:\n",
    "\n",
    "    csvreader = csv.reader(csvfile, delimiter = ',')\n",
    "\n",
    "    next(csvreader, None)\n",
    "\n",
    "\n",
    "    for row in csvreader:\n",
    "        total_months += 1\n",
    "        months.append(row[0])\n",
    "        total_revenue.append(int(row[1]))\n",
    "       "
   ]
  },
  {
   "cell_type": "code",
   "execution_count": 5,
   "metadata": {},
   "outputs": [
    {
     "data": {
      "text/plain": [
       "41"
      ]
     },
     "execution_count": 5,
     "metadata": {},
     "output_type": "execute_result"
    }
   ],
   "source": [
    "total_months"
   ]
  },
  {
   "cell_type": "code",
   "execution_count": 6,
   "metadata": {},
   "outputs": [],
   "source": [
    "greatest_increase= total_revenue[0]\n",
    "greatest_decrease= total_revenue[0]\n",
    "\n",
    "\n",
    "for row in range(len(total_revenue)):\n",
    "\n",
    "    if total_revenue[row] >= greatest_increase:\n",
    "\n",
    "        greatest_increase = total_revenue[row]\n",
    "\n",
    "        greatest_inc_date = months[row]\n",
    "\n",
    "    elif total_revenue[row] <= greatest_decrease:\n",
    "\n",
    "        greatest_decrease = total_revenue[row]\n",
    "\n",
    "        greatest_dec_date = months[row]\n",
    "\n",
    "    "
   ]
  },
  {
   "cell_type": "code",
   "execution_count": 7,
   "metadata": {},
   "outputs": [
    {
     "data": {
      "text/plain": [
       "18971412"
      ]
     },
     "execution_count": 7,
     "metadata": {},
     "output_type": "execute_result"
    }
   ],
   "source": [
    "total_rev = sum(total_revenue)\n",
    "total_rev"
   ]
  },
  {
   "cell_type": "code",
   "execution_count": 8,
   "metadata": {},
   "outputs": [
    {
     "data": {
      "text/plain": [
       "462717.37"
      ]
     },
     "execution_count": 8,
     "metadata": {},
     "output_type": "execute_result"
    }
   ],
   "source": [
    "average_change = round(total_rev/total_months,2)\n",
    "average_change"
   ]
  },
  {
   "cell_type": "code",
   "execution_count": 9,
   "metadata": {},
   "outputs": [
    {
     "name": "stdout",
     "output_type": "stream",
     "text": [
      "Financial Analysis\n",
      "Total Months: 41\n",
      "Average Change: 462717.37\n",
      "Greatest Increase in Profits: Sep-15 $1195111\n",
      "Greatest Decrease in Profits: Aug-14 $-1172384\n"
     ]
    }
   ],
   "source": [
    "print('Financial Analysis')\n",
    "print('Total Months: {}'.format(total_months))\n",
    "print('Average Change: {}'.format(average_change))\n",
    "print('Greatest Increase in Profits: {} ${}'.format(greatest_inc_date,greatest_increase))\n",
    "print('Greatest Decrease in Profits: {} ${}'.format(greatest_dec_date,greatest_decrease))\n"
   ]
  },
  {
   "cell_type": "code",
   "execution_count": 10,
   "metadata": {},
   "outputs": [
    {
     "data": {
      "text/plain": [
       "45"
      ]
     },
     "execution_count": 10,
     "metadata": {},
     "output_type": "execute_result"
    }
   ],
   "source": [
    "\n",
    "with open('pyBank.text', 'w') as writefile:\n",
    "\n",
    "    writefile.writelines('Financial Analysis\\n')\n",
    "\n",
    "    writefile.writelines('----------------------------' + '\\n')\n",
    "\n",
    "    writefile.writelines('Total Months: ' + str(total_months) + '\\n')\n",
    "\n",
    "    writefile.writelines('Total Revenue: $' + str(total_rev) + '\\n')\n",
    "\n",
    "    writefile.writelines('Average Revenue Change: $' + str(average_change) + '\\n')\n",
    "\n",
    "    writefile.writelines('Greatest Increase in Revenue: ' + greatest_inc_date + ' ($' + str(greatest_increase) + ')'+ '\\n')\n",
    "\n",
    "    writefile.writelines('Greatest Decrease in Revenue: ' + greatest_dec_date + ' ($' + str(greatest_decrease) + ')')"
   ]
  },
  {
   "cell_type": "code",
   "execution_count": null,
   "metadata": {},
   "outputs": [],
   "source": []
  }
 ],
 "metadata": {
  "kernelspec": {
   "display_name": "Python 3",
   "language": "python",
   "name": "python3"
  },
  "language_info": {
   "codemirror_mode": {
    "name": "ipython",
    "version": 3
   },
   "file_extension": ".py",
   "mimetype": "text/x-python",
   "name": "python",
   "nbconvert_exporter": "python",
   "pygments_lexer": "ipython3",
   "version": "3.6.5"
  }
 },
 "nbformat": 4,
 "nbformat_minor": 2
}
